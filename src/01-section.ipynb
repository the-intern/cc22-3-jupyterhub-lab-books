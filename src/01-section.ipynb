{
 "cells": [
  {
   "cell_type": "markdown",
   "id": "bfaf952d-2d70-4c4c-a436-225fa69982d1",
   "metadata": {},
   "source": [
    "# Numbers and math in Python\n",
    "\n",
    "Ut aliquam purus sit amet luctus venenatis. Mauris rhoncus aenean vel elit scelerisque mauris pellentesque pulvinar. Adipiscing at in tellus integer feugiat scelerisque varius morbi enim. Interdum posuere lorem ipsum dolor sit amet consectetur adipiscing. Morbi enim nunc faucibus a pellentesque sit amet. Elementum eu facilisis sed odio morbi quis commodo odio aenean. In ante metus dictum at. Erat nam at lectus urna duis convallis convallis tellus. Habitant morbi tristique senectus et netus et malesuada fames ac.\n",
    "\n"
   ]
  },
  {
   "cell_type": "code",
   "execution_count": 1,
   "id": "9e4c99f9-91ea-4185-81ae-a731da3d7575",
   "metadata": {},
   "outputs": [
    {
     "data": {
      "text/plain": [
       "4"
      ]
     },
     "execution_count": 1,
     "metadata": {},
     "output_type": "execute_result"
    }
   ],
   "source": [
    "2 + 2\n"
   ]
  },
  {
   "cell_type": "code",
   "execution_count": null,
   "id": "34c5bafb-a782-44e9-be58-e7e88759406f",
   "metadata": {},
   "outputs": [],
   "source": [
    "# hours in a year\n",
    "365 * 24"
   ]
  }
 ],
 "metadata": {
  "kernelspec": {
   "display_name": "Python 3 (ipykernel)",
   "language": "python",
   "name": "python3"
  },
  "language_info": {
   "codemirror_mode": {
    "name": "ipython",
    "version": 3
   },
   "file_extension": ".py",
   "mimetype": "text/x-python",
   "name": "python",
   "nbconvert_exporter": "python",
   "pygments_lexer": "ipython3",
   "version": "3.8.13"
  }
 },
 "nbformat": 4,
 "nbformat_minor": 5
}
